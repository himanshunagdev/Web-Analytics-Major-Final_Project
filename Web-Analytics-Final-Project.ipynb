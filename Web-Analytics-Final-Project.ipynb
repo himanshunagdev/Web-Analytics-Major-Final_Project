{
 "cells": [
  {
   "cell_type": "markdown",
   "metadata": {
    "collapsed": true,
    "slideshow": {
     "slide_type": "slide"
    }
   },
   "source": [
    "# Web Analytics Project\n",
    "on Twitter,Yelp by\n",
    "-Himanshu Nagdev"
   ]
  },
  {
   "cell_type": "code",
   "execution_count": null,
   "metadata": {
    "collapsed": true
   },
   "outputs": [],
   "source": [
    "Steps Used:\n",
    "    1. Logging into Twitter API\n",
    "    2. Scraping Data using Regex and API\n",
    "    3. Cleaning of data\n",
    "    4. Loading Data\n",
    "    5. Transformation\n",
    "    6. Classification\n",
    "    7. Prediction\n",
    "    8. Visualization"
   ]
  },
  {
   "cell_type": "markdown",
   "metadata": {
    "slideshow": {
     "slide_type": "slide"
    }
   },
   "source": [
    "# Project Highlights\n",
    "Scrape twitter tweets and yelp reviews and ratings\n",
    "Train the model using the scraped data\n",
    "Use the model to classify new information\n",
    "    Twitter:\n",
    "    Fetched the tweets for Barack Obama, Narendra Modi and Kim kardashian using twitter API.\n",
    "    API allows only 200 tweets per ID per API call\n",
    "    As API allows a max of latest 3200 tweets per ID, so we made 16 calls for each ID.\n",
    "    After API calls, we had a total of 9,600 tweets\n",
    "    We then trained our models to classify between the three IDs using the training set\n",
    "    Yelp:\n",
    "    Scraped around a total of 2000 Shake-Shake reviews from yelp.com\n",
    "    Used regex to find reviews and ratings\n",
    "    We then trained our models to classify between the five reivews\n",
    "    \n",
    "    In all the above classifiers, we used textblob classifier, SVM, SVR and MNB\n",
    "    \n",
    "    \n",
    "    \n",
    "    \n"
   ]
  },
  {
   "cell_type": "code",
   "execution_count": null,
   "metadata": {
    "collapsed": true,
    "slideshow": {
     "slide_type": "slide"
    }
   },
   "outputs": [],
   "source": [
    "#To get the Tweet ID from twitter api using the screen name(user_name)\n",
    "# Here we are using username: Narendra Modi, Barack Obama, Kim Kardashian."
   ]
  },
  {
   "cell_type": "code",
   "execution_count": null,
   "metadata": {
    "collapsed": false,
    "slideshow": {
     "slide_type": "subslide"
    }
   },
   "outputs": [],
   "source": [
    "#Id generating\n",
    "\n",
    "#Code for Narendra Modi\n",
    "\n",
    "from twython import Twython # pip install twython\n",
    "import time # standard lib\n",
    "\n",
    "consumer_key=\"4dRziGRD3AsKwipyzP9lCcg8n\"\n",
    "consumer_secret=\"hdeEoacz1v9SLausfAHlhpnWEvsfeqdcAcguS5lTRBrAY9VWc7\"\n",
    "\n",
    "# After the step above, you will be redirected to your app's page.\n",
    "# Create an access token under the the \"Your access token\" section\n",
    "access_token=\"212456898-bJ9dTWM12uF3OUMas4DWEzqsu2NX8lW8fDUZIMVv\"\n",
    "access_token_secret=\"Ak2GT7jCj5VQgyYPSEtduLFWct0p5hN6OluRJD7K9ALkH\"\n",
    "\n",
    "\n",
    "twitter = Twython(consumer_key,consumer_secret,access_token,access_token_secret)\n",
    "#lis = [615149853543260160] ## this is the latest starting tweet id\n",
    "\n",
    "## tweet extract method with the last list item as the max_id\n",
    "user_timeline = twitter.get_user_timeline(screen_name=\"narendramodi\", count=1)\n",
    "user_timeline.maxid()\n",
    "\n",
    "Output\n",
    ">>615149853543260160\n",
    "\n",
    "\n",
    "twitter = Twython(consumer_key,consumer_secret,access_token,access_token_secret)\n",
    "#lis = [615149853543260160] ## this is the latest starting tweet id\n",
    "\n",
    "## tweet extract method with the last list item as the max_id\n",
    "user_timeline = twitter.get_user_timeline(screen_name=\"BarackObama\", count=1)\n",
    "user_timeline.maxid()\n",
    "\n",
    "Output\n",
    ">>617373842839834624 \n",
    "\n",
    "\n",
    "\n",
    "twitter = Twython(consumer_key,consumer_secret,access_token,access_token_secret)\n",
    "#lis = [615149853543260160] ## this is the latest starting tweet id\n",
    "\n",
    "## tweet extract method with the last list item as the max_id\n",
    "user_timeline = twitter.get_user_timeline(screen_name=\"KimKardashian\", count=1)\n",
    "user_timeline.maxid()\n",
    "\n",
    "Output\n",
    ">>617149602467201024\n"
   ]
  },
  {
   "cell_type": "code",
   "execution_count": null,
   "metadata": {
    "collapsed": true,
    "slideshow": {
     "slide_type": "subslide"
    }
   },
   "outputs": [],
   "source": [
    "#Data Scraping\n",
    "\n",
    "# Fetching text from Twitter for all the individuals using ID\n",
    "\n",
    "# Code for Narendra Modi and it writes tweet in clean_narendra.txt\n",
    "\n",
    "# Problem: Initally we were getting just 20 tweets, then 300 per loop(finally after using the code\n",
    "#of max iD we were able to generate 200 tweets per loop)"
   ]
  },
  {
   "cell_type": "code",
   "execution_count": null,
   "metadata": {
    "collapsed": true,
    "slideshow": {
     "slide_type": "subslide"
    }
   },
   "outputs": [],
   "source": [
    "sep = '||||||||||'\n",
    "from twython import Twython # pip install twython\n",
    "import time # standard lib\n",
    "consumer_key=\"4dRziGRD3AsKwipyzP9lCcg8n\"\n",
    "consumer_secret=\"hdeEoacz1v9SLausfAHlhpnWEvsfeqdcAcguS5lTRBrAY9VWc7\"\n",
    "# After the step above, you will be redirected to your app's page.\n",
    "# Create an access token under the the \"Your access token\" section\n",
    "access_token=\"212456898-bJ9dTWM12uF3OUMas4DWEzqsu2NX8lW8fDUZIMVv\"\n",
    "access_token_secret=\"Ak2GT7jCj5VQgyYPSEtduLFWct0p5hN6OluRJD7K9ALkH\"\n",
    "filewrite = open('clean_narendra.txt','w')\n",
    "a=[]\n",
    "twitter = Twython(consumer_key,consumer_secret,access_token,access_token_secret)\n",
    "lis = [615149853543260160] ## this is the latest starting tweet id\n",
    "for i in range(0, 16): ## iterate through all tweets\n",
    "    print(\"Printing group :\",i)\n",
    "## tweet extract method with the last list item as the max_id\n",
    "    user_timeline = twitter.get_user_timeline(screen_name=\"narendramodi\",\n",
    "    count=200, include_retweets=False, max_id=lis[-1])\n",
    "    #time.sleep(300) ## 5 minute rest between api calls\n",
    "\n",
    "    for tweet in user_timeline:\n",
    "        filewrite.write(tweet['text'].encode('utf-8'))\n",
    "        filewrite.write(sep)\n",
    "        #print tweet['text'] ## print the tweet\n",
    "        a.append(tweet['text'])\n",
    "        lis.append(tweet['id']) ## append tweet id'\n",
    "        \n",
    "filewrite.close()\n",
    "\n",
    "\n",
    "#Code for Barack Obama and it writes tweet in clean_barackobama.txt\n",
    "\n",
    "from twython import Twython # pip install twython\n",
    "import time # standard lib\n",
    "consumer_key=\"4dRziGRD3AsKwipyzP9lCcg8n\"\n",
    "consumer_secret=\"hdeEoacz1v9SLausfAHlhpnWEvsfeqdcAcguS5lTRBrAY9VWc7\"\n",
    "# After the step above, you will be redirected to your app's page.\n",
    "# Create an access token under the the \"Your access token\" section\n",
    "access_token=\"212456898-bJ9dTWM12uF3OUMas4DWEzqsu2NX8lW8fDUZIMVv\"\n",
    "access_token_secret=\"Ak2GT7jCj5VQgyYPSEtduLFWct0p5hN6OluRJD7K9ALkH\"\n",
    "filewrite = open('clean_barackobama.txt','w')\n",
    "a=[]\n",
    "twitter = Twython(consumer_key,consumer_secret,access_token,access_token_secret)\n",
    "lis = [617373842839834624] ## this is the latest starting tweet id\n",
    "for i in range(0, 16): ## iterate through all tweets\n",
    "    print(\"Printing group :\",i)\n",
    "## tweet extract method with the last list item as the max_id\n",
    "    user_timeline = twitter.get_user_timeline(screen_name=\"BarackObama\",\n",
    "    count=200, include_retweets=False, max_id=lis[-1])\n",
    "    #time.sleep(300) ## 5 minute rest between api calls\n",
    "\n",
    "    for tweet in user_timeline:\n",
    "        filewrite.write(tweet['text'].encode('utf-8'))\n",
    "        filewrite.write(sep)\n",
    "        #print tweet['text'] ## print the tweet\n",
    "        a.append(tweet['text'])\n",
    "        lis.append(tweet['id']) ## append tweet id'\n",
    "        \n",
    "filewrite.close()\n",
    "\n",
    "#Code for Kim and it writes tweets in clean_Kim.txt\n",
    "\n",
    "from twython import Twython # pip install twython\n",
    "import time # standard lib\n",
    "consumer_key=\"4dRziGRD3AsKwipyzP9lCcg8n\"\n",
    "consumer_secret=\"hdeEoacz1v9SLausfAHlhpnWEvsfeqdcAcguS5lTRBrAY9VWc7\"\n",
    "# After the step above, you will be redirected to your app's page.\n",
    "# Create an access token under the the \"Your access token\" section\n",
    "access_token=\"212456898-bJ9dTWM12uF3OUMas4DWEzqsu2NX8lW8fDUZIMVv\"\n",
    "access_token_secret=\"Ak2GT7jCj5VQgyYPSEtduLFWct0p5hN6OluRJD7K9ALkH\"\n",
    "filewrite = open('clean_Kim.txt','w')\n",
    "a=[]\n",
    "twitter = Twython(consumer_key,consumer_secret,access_token,access_token_secret)\n",
    "lis = [617149602467201024] ## this is the latest starting tweet id\n",
    "for i in range(0, 16): ## iterate through all tweets\n",
    "    print(\"Printing group :\",i)\n",
    "## tweet extract method with the last list item as the max_id\n",
    "    user_timeline = twitter.get_user_timeline(screen_name=\"KimKardashian\",\n",
    "    count=200, include_retweets=False, max_id=lis[-1])\n",
    "    #time.sleep(300) ## 5 minute rest between api calls\n",
    "\n",
    "    for tweet in user_timeline:\n",
    "        filewrite.write(tweet['text'].encode('utf-8'))\n",
    "        filewrite.write(sep)\n",
    "        #print tweet['text'] ## print the tweet\n",
    "        a.append(tweet['text'])\n",
    "        lis.append(tweet['id']) ## append tweet id'\n",
    "        \n",
    "filewrite.close()\n"
   ]
  },
  {
   "cell_type": "code",
   "execution_count": null,
   "metadata": {
    "collapsed": true,
    "slideshow": {
     "slide_type": "slide"
    }
   },
   "outputs": [],
   "source": [
    "#Cleaned the data using code which removes all the RT(retweets)\n"
   ]
  },
  {
   "cell_type": "code",
   "execution_count": null,
   "metadata": {
    "collapsed": true,
    "slideshow": {
     "slide_type": "subslide"
    }
   },
   "outputs": [],
   "source": [
    "\n",
    "import numpy\n",
    "f = open('clean_narendra.txt').read()\n",
    "new_f=open('clean_narendra.txt','w')\n",
    "\n",
    "x=[]\n",
    "y=[]\n",
    "raw = f.strip().split(sep)\n",
    "count=0\n",
    "dataset=[]\n",
    "for sentence in raw:\n",
    "    #print(sentence)\n",
    "    sentencelist = sentence.strip().split()\n",
    "    if sentencelist and sentencelist[0]!=\"RT\":\n",
    "        count+=1\n",
    "        dataset.append(sentence)\n",
    "        new_f.write(sentence)\n",
    "        new_f.write('\\n')\n",
    "        new_f.write(sep)\n",
    "        new_f.write('\\n')\n",
    "\n",
    "#print(count)\n",
    "#numpy.corrcoef(x,y)\n",
    "#print(y)\n",
    "\n",
    "\n",
    "    #type(sentence)\n",
    "    #print len(sentence.split())\n",
    "#ptint()\n",
    "print(count)\n",
    "\n",
    "\n",
    "import numpy\n",
    "f = open('clean_barack.txt').read()\n",
    "new_f=open('clean_barack.txt','w')\n",
    "\n",
    "x=[]\n",
    "y=[]\n",
    "raw = f.strip().split(sep)\n",
    "count=0\n",
    "dataset=[]\n",
    "for sentence in raw:\n",
    "    #print(sentence)\n",
    "    sentencelist = sentence.strip().split()\n",
    "    if sentencelist and sentencelist[0]!=\"RT\":\n",
    "        count+=1\n",
    "        dataset.append(sentence)\n",
    "        new_f.write(sentence)\n",
    "        new_f.write('\\n')\n",
    "        new_f.write(sep)\n",
    "        new_f.write('\\n')\n",
    "\n",
    "#print(count)\n",
    "#numpy.corrcoef(x,y)\n",
    "#print(y)\n",
    "\n",
    "\n",
    "    #type(sentence)\n",
    "    #print len(sentence.split())\n",
    "#ptint()\n",
    "print(count)\n",
    "\n",
    "\n",
    "import numpy\n",
    "f = open('clean_Kim.txt').read()\n",
    "new_f=open('clean_Kim.txt','w')\n",
    "\n",
    "x=[]\n",
    "y=[]\n",
    "raw = f.strip().split(sep)\n",
    "count=0\n",
    "dataset=[]\n",
    "for sentence in raw:\n",
    "    #print(sentence)\n",
    "    sentencelist = sentence.strip().split()\n",
    "    if sentencelist and sentencelist[0]!=\"RT\":\n",
    "        count+=1\n",
    "        dataset.append(sentence)\n",
    "        new_f.write(sentence)\n",
    "        new_f.write('\\n')\n",
    "        new_f.write(sep)\n",
    "        new_f.write('\\n')\n",
    "\n",
    "#print(count)\n",
    "#numpy.corrcoef(x,y)\n",
    "#print(y)\n",
    "\n",
    "\n",
    "    #type(sentence)\n",
    "    #print len(sentence.split())\n",
    "#ptint()\n",
    "print(count)"
   ]
  },
  {
   "cell_type": "code",
   "execution_count": null,
   "metadata": {
    "collapsed": true,
    "slideshow": {
     "slide_type": "slide"
    }
   },
   "outputs": [],
   "source": [
    "Analysis of common words on the text file of Narendra Modi, Barack Obama, Kim\n",
    "by removing stop words"
   ]
  },
  {
   "cell_type": "code",
   "execution_count": null,
   "metadata": {
    "collapsed": true
   },
   "outputs": [],
   "source": [
    "# Kim text file and its most common words\n",
    "import collections\n",
    "from nltk.corpus import stopwords\n",
    "freq_counter = collections.Counter()\n",
    "line = open('clean_kim.txt').read().split(sep)\n",
    "freq_counter = collections.Counter()\n",
    "split1 = [sentence.split() for sentence in line]\n",
    "\n",
    "sw = set(stopwords.words(english))\n",
    "\n",
    "for sublists in split1:\n",
    "    for words in sublists:\n",
    "        if words.lower() not in sw:\n",
    "            freq_counter[words]+=1\n",
    "del freq_counter['&amp;']\n",
    "freq_counter"
   ]
  },
  {
   "cell_type": "code",
   "execution_count": null,
   "metadata": {
    "collapsed": true
   },
   "outputs": [],
   "source": [
    "import collections\n",
    "\n",
    "freq_counter = collections.Counter()\n",
    "line = open('clean_barack.txt').read().split(sep)\n",
    "freq_counter = collections.Counter()\n",
    "split1 = [sentence.split() for sentence in line]\n",
    "\n",
    "for sublists in split1:\n",
    "    for words in sublists:\n",
    "        if words.lower() not in sw:\n",
    "            freq_counter[words]+=1\n",
    "del freq_counter['&amp;']\n",
    "freq_counter"
   ]
  },
  {
   "cell_type": "code",
   "execution_count": null,
   "metadata": {
    "collapsed": true
   },
   "outputs": [],
   "source": [
    "import collections\n",
    "\n",
    "freq_counter = collections.Counter()\n",
    "line = open('clean_narendra.txt').read().split(sep)\n",
    "split1 = [sentence.split() for sentence in line]\n",
    "for sublists in split1:\n",
    "    for words in sublists:\n",
    "        if words.lower() not in sw:\n",
    "            freq_counter[words]+=1\n",
    "del freq_counter['&amp;']\n",
    "freq_counter"
   ]
  },
  {
   "cell_type": "code",
   "execution_count": null,
   "metadata": {
    "collapsed": true,
    "slideshow": {
     "slide_type": "slide"
    }
   },
   "outputs": [],
   "source": [
    "#Sentiment Analysis for all the three personalities\n",
    "\n",
    "NarendraModi\n",
    "Total Output:1739\n",
    "\n",
    "Kim\n",
    "Total Output:858\n",
    "\n",
    "Barack Obama\n",
    "Total Output:806\n"
   ]
  },
  {
   "cell_type": "code",
   "execution_count": null,
   "metadata": {
    "collapsed": true
   },
   "outputs": [],
   "source": [
    "import numpy\n",
    "f = open('clean_kim.txt').read()\n",
    "neg = open('negative-words.txt').read()\n",
    "neglist = neg.strip().split()\n",
    "pos = open('positive-words.txt').read()\n",
    "poslist = pos.strip().split()\n",
    "global_sentiment=0\n",
    "x=[]\n",
    "y=[]\n",
    "raw = f.strip().split(sep)\n",
    "for sentence in raw:\n",
    "    sentencelist = sentence.strip().split()\n",
    "    xp = 0\n",
    "    xn = 0\n",
    "    for word in sentencelist:\n",
    "        if word in poslist:\n",
    "            xp+=1\n",
    "        if word in neglist:\n",
    "            xn+=1\n",
    "        sentiment = xp-xn\n",
    "    y.append(sentiment)\n",
    "    \n",
    "    x.append(len(sentencelist))\n",
    "    print (sentence, (sentiment))\n",
    "    global_sentiment+=sentiment\n",
    "\n",
    "#numpy.corrcoef(x,y)\n",
    "#print(y)\n",
    "\n",
    "print(global_sentiment)\n",
    "    #type(sentence)\n",
    "    #print len(sentence.split())\n",
    "#print()"
   ]
  },
  {
   "cell_type": "code",
   "execution_count": null,
   "metadata": {
    "collapsed": true
   },
   "outputs": [],
   "source": [
    "import numpy\n",
    "f = open('clean_narendra.txt').read()\n",
    "neg = open('negative-words.txt').read()\n",
    "neglist = neg.strip().split()\n",
    "pos = open('positive-words.txt').read()\n",
    "poslist = pos.strip().split()\n",
    "global_sentiment=0\n",
    "x=[]\n",
    "y=[]\n",
    "raw = f.strip().split(sep)\n",
    "for sentence in raw:\n",
    "    sentencelist = sentence.strip().split()\n",
    "    xp = 0\n",
    "    xn = 0\n",
    "    for word in sentencelist:\n",
    "        if word in poslist:\n",
    "            xp+=1\n",
    "        if word in neglist:\n",
    "            xn+=1\n",
    "        sentiment = xp-xn\n",
    "    y.append(sentiment)\n",
    "    \n",
    "    x.append(len(sentencelist))\n",
    "    print (sentence, (sentiment))\n",
    "    global_sentiment+=sentiment\n",
    "\n",
    "#numpy.corrcoef(x,y)\n",
    "#print(y)\n",
    "\n",
    "print(global_sentiment)\n",
    "    #type(sentence)\n",
    "    #print len(sentence.split())\n",
    "#print()"
   ]
  },
  {
   "cell_type": "code",
   "execution_count": null,
   "metadata": {
    "collapsed": true
   },
   "outputs": [],
   "source": [
    "import numpy\n",
    "f = open('clean_barack.txt').read()\n",
    "neg = open('negative-words.txt').read()\n",
    "neglist = neg.strip().split()\n",
    "pos = open('positive-words.txt').read()\n",
    "poslist = pos.strip().split()\n",
    "global_sentiment=0\n",
    "x=[]\n",
    "y=[]\n",
    "raw = f.strip().split(sep)\n",
    "for sentence in raw:\n",
    "    sentencelist = sentence.strip().split()\n",
    "    xp = 0\n",
    "    xn = 0\n",
    "    for word in sentencelist:\n",
    "        if word in poslist:\n",
    "            xp+=1\n",
    "        if word in neglist:\n",
    "            xn+=1\n",
    "        sentiment = xp-xn\n",
    "    y.append(sentiment)\n",
    "    \n",
    "    x.append(len(sentencelist))\n",
    "    print (sentence, (sentiment))\n",
    "    global_sentiment+=sentiment\n",
    "\n",
    "#numpy.corrcoef(x,y)\n",
    "#print(y)\n",
    "\n",
    "print(global_sentiment)\n",
    "    #type(sentence)\n",
    "    #print len(sentence.split())\n",
    "#print()"
   ]
  },
  {
   "cell_type": "code",
   "execution_count": null,
   "metadata": {
    "collapsed": false,
    "slideshow": {
     "slide_type": "slide"
    }
   },
   "outputs": [],
   "source": [
    "Correlation between Length of Sentiment and Tweet of an individual"
   ]
  },
  {
   "cell_type": "code",
   "execution_count": 20,
   "metadata": {
    "collapsed": false,
    "slideshow": {
     "slide_type": "subslide"
    }
   },
   "outputs": [
    {
     "data": {
      "text/plain": [
       "array([[ 1.        , -0.09835134],\n",
       "       [-0.09835134,  1.        ]])"
      ]
     },
     "execution_count": 20,
     "metadata": {},
     "output_type": "execute_result"
    }
   ],
   "source": [
    "import numpy\n",
    "f = open('clean_narendra.txt').read()\n",
    "neg = open('negative-words.txt').read()\n",
    "neglist = neg.strip().split()\n",
    "pos = open('positive-words.txt').read()\n",
    "poslist = pos.strip().split()\n",
    "x=[]\n",
    "y=[]\n",
    "raw = f.strip().split(sep)\n",
    "for sentence in raw:\n",
    "    sentencelist = sentence.strip().split()\n",
    "    xp = 0\n",
    "    xn = 0\n",
    "    for word in sentencelist:\n",
    "        if word in poslist:\n",
    "            xp+=1\n",
    "        if word in neglist:\n",
    "            xn+=1\n",
    "        sentiment = xp-xn\n",
    "    y.append(sentiment)\n",
    "    \n",
    "    x.append(len(sentencelist)<5)\n",
    "    #print (len(sentencelist) , (sentiment))\n",
    "\n",
    "numpy.corrcoef(x,y)\n",
    "#print(y)\n",
    "\n",
    "\n",
    "    #type(sentence)\n",
    "    #print len(sentence.split())\n",
    "#ptint()"
   ]
  },
  {
   "cell_type": "code",
   "execution_count": 24,
   "metadata": {
    "collapsed": false,
    "slideshow": {
     "slide_type": "subslide"
    }
   },
   "outputs": [
    {
     "data": {
      "text/plain": [
       "array([[ 1.      , -0.100381],\n",
       "       [-0.100381,  1.      ]])"
      ]
     },
     "execution_count": 24,
     "metadata": {},
     "output_type": "execute_result"
    }
   ],
   "source": [
    "import numpy\n",
    "f = open('clean_narendra.txt').read()\n",
    "neg = open('negative-words.txt').read()\n",
    "neglist = neg.strip().split()\n",
    "pos = open('positive-words.txt').read()\n",
    "poslist = pos.strip().split()\n",
    "x=[]\n",
    "y=[]\n",
    "raw = f.strip().split(sep)\n",
    "for sentence in raw:\n",
    "    sentencelist = sentence.strip().split()\n",
    "    xp = 0\n",
    "    xn = 0\n",
    "    for word in sentencelist:\n",
    "        if word in poslist:\n",
    "            xp+=1\n",
    "        if word in neglist:\n",
    "            xn+=1\n",
    "        sentiment = xp-xn\n",
    "    y.append(sentiment)\n",
    "    \n",
    "    x.append(5<len(sentencelist)<10)\n",
    "    #print (len(sentencelist) , (sentiment))\n",
    "\n",
    "numpy.corrcoef(x,y)\n",
    "#print(y)\n",
    "\n",
    "\n",
    "    #type(sentence)\n",
    "    #print len(sentence.split())\n",
    "#ptint()"
   ]
  },
  {
   "cell_type": "code",
   "execution_count": 21,
   "metadata": {
    "collapsed": false,
    "slideshow": {
     "slide_type": "subslide"
    }
   },
   "outputs": [
    {
     "data": {
      "text/plain": [
       "array([[ 1.        ,  0.26968115],\n",
       "       [ 0.26968115,  1.        ]])"
      ]
     },
     "execution_count": 21,
     "metadata": {},
     "output_type": "execute_result"
    }
   ],
   "source": [
    "import numpy\n",
    "f = open('clean_Kim.txt').read()\n",
    "neg = open('negative-words.txt').read()\n",
    "neglist = neg.strip().split()\n",
    "pos = open('positive-words.txt').read()\n",
    "poslist = pos.strip().split()\n",
    "x=[]\n",
    "y=[]\n",
    "raw = f.strip().split(sep)\n",
    "for sentence in raw:\n",
    "    sentencelist = sentence.strip().split()\n",
    "    xp = 0\n",
    "    xn = 0\n",
    "    for word in sentencelist:\n",
    "        if word in poslist:\n",
    "            xp+=1\n",
    "        if word in neglist:\n",
    "            xn+=1\n",
    "        sentiment = xp-xn\n",
    "    y.append(sentiment)\n",
    "    \n",
    "    x.append(len(sentencelist))\n",
    "    #print (len(sentencelist) , (sentiment))\n",
    "\n",
    "numpy.corrcoef(x,y)\n",
    "#print(y)\n",
    "\n",
    "\n",
    "    #type(sentence)\n",
    "    #print len(sentence.split())\n",
    "#ptint()"
   ]
  },
  {
   "cell_type": "code",
   "execution_count": 17,
   "metadata": {
    "collapsed": false,
    "slideshow": {
     "slide_type": "subslide"
    }
   },
   "outputs": [
    {
     "data": {
      "text/plain": [
       "array([[ 1.        ,  0.12865671],\n",
       "       [ 0.12865671,  1.        ]])"
      ]
     },
     "execution_count": 17,
     "metadata": {},
     "output_type": "execute_result"
    }
   ],
   "source": [
    "import numpy\n",
    "f = open('clean_barack.txt').read()\n",
    "neg = open('negative-words.txt').read()\n",
    "neglist = neg.strip().split()\n",
    "pos = open('positive-words.txt').read()\n",
    "poslist = pos.strip().split()\n",
    "x=[]\n",
    "y=[]\n",
    "raw = f.strip().split(sep)\n",
    "for sentence in raw:\n",
    "    sentencelist = sentence.strip().split()\n",
    "    xp = 0\n",
    "    xn = 0\n",
    "    for word in sentencelist:\n",
    "        if word in poslist:\n",
    "            xp+=1\n",
    "        if word in neglist:\n",
    "            xn+=1\n",
    "        sentiment = xp-xn\n",
    "    y.append(sentiment)\n",
    "    \n",
    "    x.append(len(sentencelist))\n",
    "    #print (len(sentencelist) , (sentiment))\n",
    "\n",
    "numpy.corrcoef(x,y)\n",
    "#print(y)\n",
    "\n",
    "\n",
    "    #type(sentence)\n",
    "    #print len(sentence.split())\n",
    "#ptint()"
   ]
  },
  {
   "cell_type": "code",
   "execution_count": null,
   "metadata": {
    "collapsed": true,
    "slideshow": {
     "slide_type": "slide"
    }
   },
   "outputs": [],
   "source": [
    "Twitter Classification using Textblob"
   ]
  },
  {
   "cell_type": "code",
   "execution_count": 3,
   "metadata": {
    "collapsed": false,
    "slideshow": {
     "slide_type": "subslide"
    }
   },
   "outputs": [],
   "source": [
    "\n",
    "''' This will make a tuple combination for the tweets and the ID'''\n",
    "f_modi = open('clean_narendra.txt').read().strip().split(sep)\n",
    "f_barack = open('clean_barack.txt').read().strip().split(sep)\n",
    "f_kim = open('clean_kim.txt').read().strip().split(sep)\n",
    "\n",
    "train = []\n",
    "\n",
    "for sentence in f_modi:\n",
    "      train.append(tuple([unicode(sentence.strip(),errors='replace'),'modi']))\n",
    "''' We are using unicode function to avoid asci errors while processing the text through NaiveBayesClassifier '''\n",
    "        \n",
    "for sentence in f_kim:\n",
    "      train.append(tuple([unicode(sentence.strip(),errors='replace'),'kim']))\n",
    "        \n",
    "for sentence in f_barack:\n",
    "      train.append(tuple([unicode(sentence.strip(),errors='replace'),'barack']))\n",
    "\n",
    "        \n",
    "temp = train\n",
    "import random\n",
    "random.shuffle(temp)"
   ]
  },
  {
   "cell_type": "code",
   "execution_count": 21,
   "metadata": {
    "collapsed": false,
    "slideshow": {
     "slide_type": "subslide"
    }
   },
   "outputs": [
    {
     "name": "stdout",
     "output_type": "stream",
     "text": [
      "('Time Taken:', 547.7571029663086)\n"
     ]
    }
   ],
   "source": [
    "from textblob.classifiers import NaiveBayesClassifier\n",
    "import time\n",
    "t0= time.time()\n",
    "\n",
    "tt=temp[0:1000]\n",
    "cl = NaiveBayesClassifier(tt)\n",
    "\n",
    "t1 = time.time()\n",
    "print(\"Time Taken:\",t1-t0)\n",
    "\n",
    "\n"
   ]
  },
  {
   "cell_type": "code",
   "execution_count": 26,
   "metadata": {
    "collapsed": false
   },
   "outputs": [
    {
     "name": "stdout",
     "output_type": "stream",
     "text": [
      "0.982836188926\n",
      "0.016035550971\n",
      "0.00112826010304\n"
     ]
    }
   ],
   "source": [
    "print delit.prob('kim')\n",
    "print delit.prob('barack')\n",
    "print delit.prob('modi')"
   ]
  },
  {
   "cell_type": "code",
   "execution_count": 28,
   "metadata": {
    "collapsed": false,
    "slideshow": {
     "slide_type": "subslide"
    }
   },
   "outputs": [
    {
     "name": "stdout",
     "output_type": "stream",
     "text": [
      "kim\n",
      "0.999901065102\n",
      "9.88214942063e-05\n",
      "1.13403755996e-07\n"
     ]
    }
   ],
   "source": [
    "try_tweet='''not this year. I'm pregnant so can't. i loved it though so maybe in a year or two. it was so hard on my hair though. '''\n",
    "print cl.classify(try_tweet)\n",
    "delit = cl.prob_classify(try_tweet)\n",
    "print delit.prob('kim')\n",
    "print delit.prob('barack')\n",
    "print delit.prob('modi')"
   ]
  },
  {
   "cell_type": "code",
   "execution_count": 31,
   "metadata": {
    "collapsed": false,
    "slideshow": {
     "slide_type": "subslide"
    }
   },
   "outputs": [
    {
     "name": "stdout",
     "output_type": "stream",
     "text": [
      "barack\n",
      "1.67761437813e-08\n",
      "0.999999969336\n",
      "1.38874217382e-08\n"
     ]
    }
   ],
   "source": [
    "try_text='''Read how the Obama administration plans to help renters and low-income homeowners gain easier access to solar energy:'''\n",
    "print cl.classify(try_text)\n",
    "delit = cl.prob_classify(try_text)\n",
    "\n",
    "print delit.prob('kim')\n",
    "print delit.prob('barack')\n",
    "print delit.prob('modi')"
   ]
  },
  {
   "cell_type": "code",
   "execution_count": 33,
   "metadata": {
    "collapsed": false,
    "scrolled": true
   },
   "outputs": [
    {
     "name": "stdout",
     "output_type": "stream",
     "text": [
      "kim\n",
      "0.999970859469\n",
      "2.05406245555e-05\n",
      "8.59990646703e-06\n"
     ]
    }
   ],
   "source": [
    "try_text = '''So excited one of my favorite make up brands @CTilburyMakeup is sponsoring my master make up class with'''\n",
    "print cl.classify(try_text)\n",
    "delit = cl.prob_classify(try_text)\n",
    "\n",
    "print delit.prob('kim')\n",
    "print delit.prob('barack')\n",
    "print delit.prob('modi')"
   ]
  },
  {
   "cell_type": "code",
   "execution_count": 34,
   "metadata": {
    "collapsed": false
   },
   "outputs": [
    {
     "name": "stdout",
     "output_type": "stream",
     "text": [
      "barack\n",
      "0.0275963172888\n",
      "0.568873969273\n",
      "0.403529713439\n"
     ]
    }
   ],
   "source": [
    "try_text = '''A new rail network is being created in addition to enhancing the existing network at a cost of Rs. 57000 Crore.'''\n",
    "print cl.classify(try_text)\n",
    "delit = cl.prob_classify(try_text)\n",
    "\n",
    "print delit.prob('kim')\n",
    "print delit.prob('barack')\n",
    "print delit.prob('modi')"
   ]
  },
  {
   "cell_type": "code",
   "execution_count": 36,
   "metadata": {
    "collapsed": false
   },
   "outputs": [
    {
     "name": "stdout",
     "output_type": "stream",
     "text": [
      "modi\n",
      "2.36349224036e-08\n",
      "1.87254369546e-08\n",
      "0.99999995764\n"
     ]
    }
   ],
   "source": [
    "try_text='''National Skill Development Mission, Pradhan Mantri Kaushal Vikas Yojana & Skill Loan Scheme are determined efforts to create a Skilled India'''\n",
    "\n",
    "print cl.classify(try_text)\n",
    "delit = cl.prob_classify(try_text)\n",
    "\n",
    "print delit.prob('kim')\n",
    "print delit.prob('barack')\n",
    "print delit.prob('modi')"
   ]
  },
  {
   "cell_type": "markdown",
   "metadata": {
    "slideshow": {
     "slide_type": "subslide"
    }
   },
   "source": [
    "# Twitter Classification using Scikit-Learn "
   ]
  },
  {
   "cell_type": "code",
   "execution_count": 40,
   "metadata": {
    "collapsed": true,
    "slideshow": {
     "slide_type": "subslide"
    }
   },
   "outputs": [],
   "source": [
    "from sklearn.naive_bayes import MultinomialNB\n",
    "from sklearn.svm import LinearSVC, SVR\n",
    "from sklearn.feature_extraction.text import TfidfVectorizer\n",
    "from nltk import sent_tokenize, word_tokenize, WordNetLemmatizer\n",
    "from nltk.corpus import stopwords\n",
    "from sklearn.cross_validation import train_test_split\n",
    "\n",
    "\n",
    "def pre_process(text):\n",
    "    \"\"\"\n",
    "    Function used to process the given text\n",
    "    1. Replace ,.'\" with ''\n",
    "    2. Tokenzie the text using NLTK word tokenizer\n",
    "    3. Remove stop words from the token.\n",
    "    4. Convert the tokens to lower case\n",
    "    5. Lemmatize the tokens using WordNet Lemmatizer\n",
    "    :param text: raw review text\n",
    "    :return: processed tokens\n",
    "    \"\"\"\n",
    "    #print(\"Hello********************************************************************************************\")\n",
    "    # replace (,.'\") with ''\n",
    "    text = text.replace('||||', '')\n",
    "    text = text.replace(',', '')\n",
    "    text = text.replace('@', '')\n",
    "    text = text.replace('.', '')\n",
    "    text = text.replace(\"'\", '')\n",
    "    text = text.replace(\"\\\"\", '')\n",
    "\n",
    "     # tokenize into words\n",
    "    tokens = [word for sent in sent_tokenize(text) for word in word_tokenize(sent)]\n",
    "#\n",
    "    # remove stopwords\n",
    "    stop = stopwords.words('english')\n",
    "    tokens = [token for token in tokens if token not in stop]\n",
    "#\n",
    "    # remove words less than three letters\n",
    "    tokens = [word for word in tokens if len(word) >= 3]\n",
    "\n",
    "    # lower capitalization\n",
    "    tokens = [word.lower() for word in tokens]\n",
    "\n",
    "    # lemmatize\n",
    "    lmtzr = WordNetLemmatizer()\n",
    "    tokens = [lmtzr.lemmatize(word) for word in tokens]\n",
    "\n",
    "    return tokens\n"
   ]
  },
  {
   "cell_type": "code",
   "execution_count": 39,
   "metadata": {
    "collapsed": true,
    "slideshow": {
     "slide_type": "subslide"
    }
   },
   "outputs": [],
   "source": [
    "''' This will make a tuple combination for the tweets and the ID'''\n",
    "f_modi = open('clean_narendra.txt').read().strip().split(sep)\n",
    "f_barack = open('clean_barack.txt').read().strip().split(sep)\n",
    "f_kim = open('clean_kim.txt').read().strip().split(sep)\n",
    "\n",
    "train = []\n",
    "\n",
    "for sentence in f_modi:\n",
    "      train.append(tuple([unicode(sentence.strip(),errors='replace'),'modi']))\n",
    "''' We are using unicode function to avoid asci errors while processing the text through NaiveBayesClassifier '''\n",
    "        \n",
    "for sentence in f_kim:\n",
    "      train.append(tuple([unicode(sentence.strip(),errors='replace'),'kim']))\n",
    "        \n",
    "for sentence in f_barack:\n",
    "      train.append(tuple([unicode(sentence.strip(),errors='replace'),'barack']))\n"
   ]
  },
  {
   "cell_type": "code",
   "execution_count": 45,
   "metadata": {
    "collapsed": true,
    "slideshow": {
     "slide_type": "subslide"
    }
   },
   "outputs": [],
   "source": [
    "def CalculateSVM(data=None):\n",
    "    \"\"\"\n",
    "    Function is used to classify review text based on Support Vector Machine Classifier\n",
    "    :param data: Review text with the rating from the data set\n",
    "    :return: print the accuracy Score\n",
    "    \"\"\"\n",
    "    classifier = LinearSVC()\n",
    "    vectorizer = TfidfVectorizer(tokenizer=pre_process)\n",
    "    \n",
    "    train, test = train_test_split([(t[0],t[1]) for t in data],\n",
    "                                   test_size=.2,\n",
    "                                   random_state=10)\n",
    "    x_train = vectorizer.fit_transform(i[0] for i in train)\n",
    "    x_test = vectorizer.transform(i[0] for i in test)\n",
    "    classifier.fit(x_train, [i[1] for i in train])\n",
    "    score = classifier.score(x_test, [i[1] for i in test])\n",
    "    #print(classifier.predict(x_train[6]))\n",
    "    print (score)\n",
    "\n",
    "    \n",
    "def CalculateMNB(data=None):\n",
    "    \"\"\"\n",
    "    Function is used to classify review text based on Multinomial Bayes Classifier\n",
    "    :param data: Review text with the rating from the data set\n",
    "    :return: print the accuracy Score\n",
    "    \"\"\"\n",
    "    vectorizer = TfidfVectorizer(tokenizer=pre_process)\n",
    "    classifier = MultinomialNB()\n",
    "    train, test = train_test_split([(t[0],t[1]) for t in data],\n",
    "                                   test_size=.2,\n",
    "                                   random_state=10)\n",
    "    x_train = vectorizer.fit_transform(i[0] for i in train)\n",
    "    x_test = vectorizer.transform(i[0] for i in test)\n",
    "    classifier.fit(x_train, [i[1] for i in train])\n",
    "    score = classifier.score(x_test, [i[1] for i in test])\n",
    "    print (score)\n",
    "    \n",
    "def CalculateSVR(data=None):\n",
    "    \"\"\"\n",
    "    Function is used to classify review text based on Support Vector Regression Classifier\n",
    "    :param data: Review text with the rating from the data set\n",
    "    :return: print the accuracy Score\n",
    "    \"\"\"\n",
    "    vectorizer = TfidfVectorizer(tokenizer=pre_process)\n",
    "    classifier = SVR(kernel='linear')\n",
    "    train, test = train_test_split([(t[0],t[1]) for t in data],\n",
    "                                   test_size=.2,\n",
    "                                   random_state=10)\n",
    "    x_train = vectorizer.fit_transform(i[0] for i in train)\n",
    "    x_test = vectorizer.transform(i[0] for i in test)\n",
    "    classifier.fit(x_train, [i[1] for i in train])\n",
    "    score = classifier.score(x_test, [i[1] for i in test])\n",
    "    print (score)\n"
   ]
  },
  {
   "cell_type": "code",
   "execution_count": 47,
   "metadata": {
    "collapsed": false,
    "slideshow": {
     "slide_type": "subslide"
    }
   },
   "outputs": [
    {
     "name": "stdout",
     "output_type": "stream",
     "text": [
      "0.825\n",
      "0.725\n",
      "0.65\n"
     ]
    }
   ],
   "source": [
    "import random\n",
    "temp=train\n",
    "random.shuffle(temp)\n",
    "data=temp[:200]\n",
    "CalculateSVM(data)\n",
    "CalculateMNB(data)\n",
    "CalculateSVR(data)"
   ]
  },
  {
   "cell_type": "markdown",
   "metadata": {
    "slideshow": {
     "slide_type": "slide"
    }
   },
   "source": [
    "# Code for scraping the Yelp reviews data for Shake Shack\n"
   ]
  },
  {
   "cell_type": "code",
   "execution_count": null,
   "metadata": {
    "collapsed": true,
    "slideshow": {
     "slide_type": "subslide"
    }
   },
   "outputs": [],
   "source": [
    "import requests\n",
    "import re\n",
    "''' \n",
    "We will be using only regex to find ratings and reviews from the source pages for Yelp!#\n",
    "Pages URL follows a particular pattern. for example:\n",
    "Page 1 URL is : http://www.yelp.com/biz/shake-shack-new-york-9\n",
    "Page 2 URL is : http://www.yelp.com/biz/shake-shack-new-york-9?start=40\n",
    "Page 3 URL is : http://www.yelp.com/biz/shake-shack-new-york-9?start=80\n",
    "We can not guess that url for page n ends with (n-1)*40\n",
    "i.e url for page 5 should then end with (5-1)*40 => 160.\n",
    "which is correct: Here's the link to actual url for page 5:-\n",
    "http://www.yelp.com/biz/shake-shack-new-york-9?start=160\n",
    "'''\n",
    "ratings=[] # Creating empty ratings list\n",
    "reviews=[] # Creating empty reviews list\n",
    "num_pages = 53\n",
    "for i in range(1,num_pages): # This for Loops will navigate us to each page starting from page 1 and ending at page 52\n",
    "    if i==1:\n",
    "        url = 'http://www.yelp.com/biz/shake-shack-new-york-9'   \n",
    "    else:\n",
    "        url = \"http://www.yelp.com/biz/shake-shack-new-york-9?start=\"+str((i-1)*40)\n",
    "    # In the above If statement, for first page, url is default url for first page. Else we use our formula to \n",
    "    # derive the URL\n",
    "    \n",
    "    # Now we make a request to get the contents of the url\n",
    "    html = requests.get(url)\n",
    "    html\n",
    "    # We now have the source code for the the url. We will now like to find all the reviews and ratings from this html code\n",
    "    # To do that, we first try to find the html tags ralated to reviews and corresponding ratings\n",
    "    # We will first focus on reviews\n",
    "    # After using inspect element, we find that the tag for each reviews starts with \n",
    "    # <p itemprop=\"description\" lang=\"en\">       and ends with     </p>\n",
    "    # Within these two texts lies the review description that we are looking for.\n",
    "    # So we will use regex to extract that pattern.\n",
    "    # All we want is to find pattern starting with '<p itemprop=\"description\" lang=\"en\"> and ending with '<\\p>'\n",
    "    # and fetch everything that is inside these two strings.\n",
    "    # To do that we use (.+?) which basically means \"fetch everything\"\n",
    "    regex_reviews_pattern = '<p itemprop=\"description\" lang=\"en\">(.+?)</p>'\n",
    "    reg = re.compile(regex_reviews_pattern)  # Here we simply compile the pattern we are looking for\n",
    "    match_reviews = re.findall(reg,html.text)\n",
    "    for t in match_reviews: # We are using for loop for getting a flattened list\n",
    "        reviews.append(t)\n",
    "    # re.findall(*,*) returns a list of all the strings(reviews) that were inside the above two tags\n",
    "    # So we now have the list of all the reviews in match_review.\n",
    "    # We now will do similar stuff for ratings.\n",
    "    # After inspecting, we find that rating starts with '<meta itemprop=\"ratingValue\" content=\"4.0\">\n",
    "    reg_rating = '<meta itemprop=\"ratingValue\" content=[\\S]+'\n",
    "    # here we are using [\\S]+ in the end. This simply tells regex to find all strings which starts with\n",
    "    # '<meta itemprop=\"ratingValue\" content=' followed by anything but space. (\\S) means anything but space\n",
    "    regrating=re.compile(reg_rating)\n",
    "    match_rating = re.findall(regrating,html.text)\n",
    "    #match rating now have a list of ratings. We will though need to clean this a bit to get the numbers.\n",
    "   \n",
    "    for i in range(1,len(match_rating)):# We are removing the very first number ratings as that corresponds to the overall ratings \n",
    "        if match_rating[i]:\n",
    "            t=re.findall(r'\\d',match_rating[i])\n",
    "            ratings.append(int(t[0]))\n",
    "    \n",
    "\n",
    "#result = zip(reviews,ratings)\n",
    "print(\"Done\")\n",
    "x=zip(reviews,ratings)"
   ]
  },
  {
   "cell_type": "code",
   "execution_count": null,
   "metadata": {
    "collapsed": true,
    "slideshow": {
     "slide_type": "subslide"
    }
   },
   "outputs": [],
   "source": [
    "# Writing the data into a text file and dividing it using a splitter\n",
    "f_open=open(\"yelpdata.txt\",'w')\n",
    "for pair in x:\n",
    "    st = pair[0]+'||||'+str(pair[1])\n",
    "    f_open.write(st.encode('utf-8'))\n",
    "    f_open.write('\\n')\n",
    "    f_open.write(\"@@@@@@\")\n",
    "    f_open.write('\\n')\n",
    "    \n",
    "    "
   ]
  },
  {
   "cell_type": "markdown",
   "metadata": {
    "slideshow": {
     "slide_type": "slide"
    }
   },
   "source": [
    "# Yelp Classification using Textblob"
   ]
  },
  {
   "cell_type": "code",
   "execution_count": 38,
   "metadata": {
    "collapsed": false,
    "slideshow": {
     "slide_type": "subslide"
    }
   },
   "outputs": [],
   "source": [
    "f_yelp = open('yelpdata.txt').read().split('@@@@@@')\n",
    "data=f_yelp[:1000]\n",
    "\n",
    "train=[]\n",
    "for sentence in data:\n",
    "    temp=sentence.strip().split(\"||||\")\n",
    "    rev=temp[0]\n",
    "    rate=int(temp[1])\n",
    "    if rate<2:\n",
    "        rate =0\n",
    "    else:\n",
    "        rate=1\n",
    "    train.append(tuple((unicode(rev,errors='replace'),rate)))\n",
    "    #train.append(tuple([unicode(sentence.strip(),errors='replace'),'modi']))\n",
    "\n",
    "#train=[(t.strip().split(\"||||\")[0],int(t.strip().split(\"||||\")[1])) for t in data]"
   ]
  },
  {
   "cell_type": "code",
   "execution_count": 42,
   "metadata": {
    "collapsed": true,
    "slideshow": {
     "slide_type": "subslide"
    }
   },
   "outputs": [],
   "source": [
    "temp = train\n",
    "import random\n",
    "random.shuffle(temp)\n",
    "from textblob.classifiers import NaiveBayesClassifier\n",
    "tt=temp[0:1000]\n",
    "\n",
    "\n"
   ]
  },
  {
   "cell_type": "code",
   "execution_count": 43,
   "metadata": {
    "collapsed": false,
    "slideshow": {
     "slide_type": "subslide"
    }
   },
   "outputs": [
    {
     "name": "stdout",
     "output_type": "stream",
     "text": [
      "('Time Taken:', 2661.443375825882)\n"
     ]
    }
   ],
   "source": [
    "import time\n",
    "t0 = time.time()\n",
    "cl = NaiveBayesClassifier(tt)\n",
    "t1 = time.time()\n",
    "print (\"Time Taken:\",t1-t0)"
   ]
  },
  {
   "cell_type": "code",
   "execution_count": 44,
   "metadata": {
    "collapsed": false,
    "slideshow": {
     "slide_type": "subslide"
    }
   },
   "outputs": [
    {
     "data": {
      "text/plain": [
       "1"
      ]
     },
     "execution_count": 44,
     "metadata": {},
     "output_type": "execute_result"
    }
   ],
   "source": [
    "cl.classify(\"Burgers are a serious business in the Yelp community and - at least in our community- you will hear the question &#34;what is the best burger ever&#34; a lot. Once you get to talking, with other Yelpers, someone will start praising Shake Shack, guaranteed. So, naturally, when I first heard of it, I had high hopes. <br><br>My first impression was that the menu - like the restaurant - was very crowded and disorganized. The feel of the place is frantic and confused and it doesn&#39;t help the general confusion that they strangely rename common food items so that you have to order &#34;Flat-Top&#34; when you want a hotdog and why they insist on calling a normal cheeseburger a ShackBurger escapes me.\")"
   ]
  },
  {
   "cell_type": "code",
   "execution_count": 49,
   "metadata": {
    "collapsed": false
   },
   "outputs": [
    {
     "name": "stdout",
     "output_type": "stream",
     "text": [
      "1\n",
      "1.0\n",
      "1.60670128893e-73\n"
     ]
    }
   ],
   "source": [
    "print cl.classify(\"A great place.\")\n",
    "review_try = \"A great place\"\n",
    "delit = cl.prob_classify(review_try)\n",
    "print delit.prob(1)\n",
    "print delit.prob(0)\n"
   ]
  },
  {
   "cell_type": "markdown",
   "metadata": {
    "slideshow": {
     "slide_type": "slide"
    }
   },
   "source": [
    "# Yelp reviews classification using Scikit-Learn "
   ]
  },
  {
   "cell_type": "code",
   "execution_count": 55,
   "metadata": {
    "collapsed": true,
    "slideshow": {
     "slide_type": "subslide"
    }
   },
   "outputs": [],
   "source": [
    "f_yelp = open('yelpdata.txt').read().split('@@@@@@')\n",
    "data=f_yelp[:1000]\n"
   ]
  },
  {
   "cell_type": "code",
   "execution_count": 56,
   "metadata": {
    "collapsed": true,
    "slideshow": {
     "slide_type": "subslide"
    }
   },
   "outputs": [],
   "source": [
    "def CalculateSVM(data=None):\n",
    "    \"\"\"\n",
    "    Function is used to classify review text based on Support Vector Machine Classifier\n",
    "    :param data: Review text with the rating from the data set\n",
    "    :return: print the accuracy Score\n",
    "    \"\"\"\n",
    "    classifier = LinearSVC()\n",
    "    vectorizer = TfidfVectorizer(tokenizer=pre_process)\n",
    "    \n",
    "    train, test = train_test_split([(t.strip().split(\"||||\")[0],int(t.strip().split(\"||||\")[1])) for t in data],\n",
    "                                   test_size=.2,\n",
    "                                   random_state=10)\n",
    "    x_train = vectorizer.fit_transform(i[0] for i in train)\n",
    "    x_test = vectorizer.transform(i[0] for i in test)\n",
    "    classifier.fit(x_train, [i[1] for i in train])\n",
    "    score = classifier.score(x_test, [i[1] for i in test])\n",
    "    #sent='Had to try this place out since it&#39;s so hyped up. I never had it elsewhere so it was my first time and it as conveniently located down the block of our hotel. There was a long line, but it went by fast so I didn&#39;t have to wait as long as others always complain about. I had the SmokeShack, which was a Cheeseburger topped with all-natural applewood smoked bacon, chopped cherry pepper and ShackSauce. It turned out to be spicy, which was unexpected and also a bit soggy for something that just came fresh out. My boyfriend had the popular Shack Stack which is a Cheeseburger and a crispy mushroom topped with lettuce, tomato and ShackSauce. I gave it a try and did like the texture of the crispy mushroom paired with the burger, but if you&#39;ve been following me, I am not a fan of mushrooms so it was ok to me. The buns were way smaller than the patty, which got a bit messy too. What I did like best about this spot was their crinkled fries! The texture, temperature, and flavor was on point. I would just come back next time just to order the fries. I got the lemonade, which wasn&#39;t anything special, but I definitely want to try the custard milkshake next time I&#39;m back.'\n",
    "    #i = len(sent.strip().split())\n",
    "    #sn=sent.\n",
    "    #print(classifier.predict(x_train[0]))\n",
    "    print (score)\n",
    "\n",
    "\n",
    "\n",
    "\n",
    "def CalculateMNB(data=None):\n",
    "    \"\"\"\n",
    "    Function is used to classify review text based on Multinomial Bayes Classifier\n",
    "    :param data: Review text with the rating from the data set\n",
    "    :return: print the accuracy Score\n",
    "    \"\"\"\n",
    "    vectorizer = TfidfVectorizer(tokenizer=pre_process)\n",
    "    classifier = MultinomialNB()\n",
    "    train, test = train_test_split([(t.strip().split(\"||||\")[0],int(t.strip().split(\"||||\")[1])) for t in data],\n",
    "                                   test_size=.2,\n",
    "                                   random_state=10)\n",
    "    x_train = vectorizer.fit_transform(i[0] for i in train)\n",
    "    x_test = vectorizer.transform(i[0] for i in test)\n",
    "    classifier.fit(x_train, [i[1] for i in train])\n",
    "    score = classifier.score(x_test, [i[1] for i in test])\n",
    "    print (score)\n",
    "\n",
    "def CalculateSVR(data=None):\n",
    "    \"\"\"\n",
    "    Function is used to classify review text based on Support Vector Regression Classifier\n",
    "    :param data: Review text with the rating from the data set\n",
    "    :return: print the accuracy Score\n",
    "    \"\"\"\n",
    "    vectorizer = TfidfVectorizer(tokenizer=pre_process)\n",
    "    classifier = SVR(kernel='linear')\n",
    "    train, test = train_test_split([(t.strip().split(\"||||\")[0],int(t.strip().split(\"||||\")[1])) for t in data],\n",
    "                                   test_size=.2,\n",
    "                                   random_state=10)\n",
    "    x_train = vectorizer.fit_transform(i[0] for i in train)\n",
    "    x_test = vectorizer.transform(i[0] for i in test)\n",
    "    classifier.fit(x_train, [i[1] for i in train])\n",
    "    score = classifier.score(x_test, [i[1] for i in test])\n",
    "    print (score)\n"
   ]
  },
  {
   "cell_type": "code",
   "execution_count": 57,
   "metadata": {
    "collapsed": false,
    "slideshow": {
     "slide_type": "subslide"
    }
   },
   "outputs": [
    {
     "name": "stdout",
     "output_type": "stream",
     "text": [
      "0.555\n",
      "0.25940368368\n",
      "0.505\n"
     ]
    }
   ],
   "source": [
    "CalculateSVM(data)\n",
    "CalculateSVR(data)\n",
    "CalculateMNB(data)"
   ]
  },
  {
   "cell_type": "code",
   "execution_count": null,
   "metadata": {
    "collapsed": true,
    "slideshow": {
     "slide_type": "slide"
    }
   },
   "outputs": [],
   "source": [
    "Visualization on Twitter"
   ]
  },
  {
   "cell_type": "code",
   "execution_count": 20,
   "metadata": {
    "collapsed": false,
    "slideshow": {
     "slide_type": "subslide"
    }
   },
   "outputs": [
    {
     "data": {
      "image/png": "[encoded data removed]",
      "text/plain": [
       "<IPython.core.display.Image object>"
      ]
     },
     "execution_count": 20,
     "metadata": {},
     "output_type": "execute_result"
    }
   ],
   "source": [
    "from IPython.display import Image\n",
    "Image(filename='Tweet Analysis.png')\n",
    "\n",
    "\n",
    "f = open('clean_narendra.txt',encoding='utf-8').read()\n",
    "neg = open('negative-words.txt').read()\n",
    "neglist = neg.strip().split()\n",
    "pos = open('positive-words.txt').read()\n",
    "poslist = pos.strip().split()\n",
    "global_sentiment=0\n",
    "x=[]\n",
    "y=[]\n",
    "\n",
    "raw = f.strip().split(sep)\n",
    "for sentence in raw:\n",
    "    #sentencelist1= sentence.encode('utf-8')\n",
    "    st = str(sentence)\n",
    "    sentencelist = st.strip().split()\n",
    "    xp = 0\n",
    "    xn = 0\n",
    "    for word in sentencelist:\n",
    "        if word in poslist:\n",
    "            xp+=1\n",
    "        if word in neglist:\n",
    "            xn+=1\n",
    "        sentiment = xp-xn\n",
    "    y.append(sentiment)\n",
    "    \n",
    "    x.append(len(sentencelist))\n",
    "    \n",
    "    global_sentiment+=sentiment\n",
    "\n",
    "plotting the tweets sentiment count vs the tweets for Narendra Modi\n",
    "sns.set(style=\"darkgrid\")\n",
    "plt.title(\"Narendra Modi\")\n",
    "plt.xlabel('Tweets')\n",
    "plt.ylabel('Rating')\n",
    "\n",
    "g=range(0,len(y))\n",
    "list(g)\n",
    "g=list(g)\n",
    "plt.plot(g,y)    #REMOVE THIS COMMENT FOR PLOTTING\n",
    "\n",
    "#OBAMA\n",
    "f1 = open('clean_barack.txt',encoding='utf-8').read()\n",
    "\n",
    "global_sentiment1=0\n",
    "x1=[]\n",
    "y1=[]\n",
    "\n",
    "raw1 = f1.strip().split(sep)\n",
    "for sentence1 in raw1:\n",
    "    #sentencelist1= sentence.encode('utf-8')\n",
    "    st1 = str(sentence1)\n",
    "    sentencelist1 = st1.strip().split()\n",
    "    xp1 = 0\n",
    "    xn1 = 0\n",
    "    for word1 in sentencelist1:\n",
    "        if word1 in poslist:\n",
    "            xp1+=1\n",
    "        if word in neglist:\n",
    "            xn1+=1\n",
    "        sentiment1 = xp1-xn1\n",
    "    y1.append(sentiment1)\n",
    "    \n",
    "    x1.append(len(sentencelist1))\n",
    "    #print (sentence, (sentiment))\n",
    "    global_sentiment1+=sentiment1\n",
    "\n",
    "sns.set(style=\"darkgrid\")\n",
    "plt.title(\"Obama\")\n",
    "plt.xlabel('Tweets')\n",
    "plt.ylabel('Rating')\n",
    "\n",
    "g1=range(0,len(y1))\n",
    "list(g1)\n",
    "g1=list(g1)\n",
    "##plt.plot(g1,y1)#REMOVE THIS COMMENT FOR PLOTTING\n",
    "#plotting the tweets sentiment count vs the tweets for Barack Obama\n",
    "#KIM\n",
    "f2 = open('clean_kim.txt',encoding='utf-8').read()\n",
    "\n",
    "global_sentiment2=0\n",
    "x2=[]\n",
    "y2=[]\n",
    "\n",
    "raw2 = f2.strip().split(sep)\n",
    "for sentence2 in raw2:\n",
    "    #sentencelist1= sentence.encode('utf-8')\n",
    "    st2 = str(sentence2)\n",
    "    sentencelist2 = st2.strip().split()\n",
    "    xp2 = 0\n",
    "    xn2 = 0\n",
    "    for word2 in sentencelist2:\n",
    "        if word2 in poslist:\n",
    "            xp2+=1\n",
    "        if word2 in neglist:\n",
    "            xn2+=1\n",
    "        sentiment2 = xp2-xn2\n",
    "    y2.append(sentiment2)\n",
    "    \n",
    "    x2.append(len(sentencelist2))\n",
    "    #print (sentence, (sentiment))\n",
    "    global_sentiment2+=sentiment2\n",
    "plotting the tweets sentiment count vs the tweets for Kim Kadashian\n",
    "sns.set(style=\"darkgrid\")\n",
    "plt.title(\"Kim Kadashian\")\n",
    "plt.xlabel('Tweets')\n",
    "plt.ylabel('Rating')\n",
    "\n",
    "g2=range(0,len(y2))\n",
    "list(g2)\n",
    "g2=list(g2)\n",
    "plt.plot(g2,y2)        \n",
    "#plt.plot (global_sentiment)\n"
   ]
  },
  {
   "cell_type": "code",
   "execution_count": 18,
   "metadata": {
    "collapsed": false,
    "slideshow": {
     "slide_type": "subslide"
    }
   },
   "outputs": [
    {
     "data": {
      "image/png": "[encoded data removed]",
      "text/plain": [
       "<IPython.core.display.Image object>"
      ]
     },
     "execution_count": 18,
     "metadata": {},
     "output_type": "execute_result"
    }
   ],
   "source": [
    "from IPython.display import Image\n",
    "Image(filename='most used words.png')\n",
    "\n",
    "# Most common Words plots\n",
    "import collections\n",
    "from nltk.corpus import stopwords\n",
    "import seaborn as sns\n",
    "\n",
    "sw = set(stopwords.words('english'))\n",
    "\n",
    "\n",
    "line1 = open('clean_narendra.txt',encoding='utf-8').read()\n",
    "line2 = open('clean_barack.txt',encoding='utf-8').read()\n",
    "line3 = open('clean_kim.txt',encoding='utf-8').read()\n",
    "\n",
    "freq_counter = collections.Counter()\n",
    "freq_counter2 = collections.Counter()\n",
    "freq_counter3 = collections.Counter()\n",
    "split1 = [sentence.split() for sentence in line1]\n",
    "split2 = [sentence.split() for sentence in line2]\n",
    "split3 = [sentence.split() for sentence in line3]\n",
    "\n",
    "for sublists in split1:\n",
    "    for words in sublists:\n",
    "        if words.lower() not in sw:\n",
    "            freq_counter[words]+=1\n",
    "for sublists in split2:\n",
    "    for words in sublists:\n",
    "        if words.lower() not in sw:\n",
    "            freq_counter2[words]+=1\n",
    "for sublists in split3:\n",
    "    for words in sublists:\n",
    "        if words.lower() not in sw:\n",
    "            freq_counter3[words]+=1\n",
    "\n",
    "del freq_counter['&amp;']\n",
    "del freq_counter2['&amp;']\n",
    "del freq_counter3['&amp;']\n",
    "#freq_counter\n",
    "\n",
    "\n",
    "t = freq_counter.most_common(10)\n",
    "t2 = freq_counter2.most_common(10)\n",
    "t3 = freq_counter3.most_common(10)\n",
    "key=[]\n",
    "value=[]\n",
    "for pairs in t:\n",
    "    key.append(pairs[0])\n",
    "    value.append(pairs[1])\n",
    "\n",
    "\n",
    "sns.barplot(key,value,palette=\"BuGn_d\")\n",
    "\n",
    "key2=[]\n",
    "value2=[]\n",
    "for pairs in t2:\n",
    "    key2.append(pairs[0])\n",
    "    value2.append(pairs[1])\n",
    "\n",
    "\n",
    "sns.barplot(key2,value2,palette=\"BuGn_d\")\n",
    "\n",
    "key3=[]\n",
    "value3=[]\n",
    "for pairs in t3:\n",
    "    key3.append(pairs[0])\n",
    "    value3.append(pairs[1])\n",
    "\n",
    "\n",
    "sns.barplot(key3,value3,palette=\"BuGn_d\")\n"
   ]
  },
  {
   "cell_type": "markdown",
   "metadata": {
    "slideshow": {
     "slide_type": "slide"
    }
   },
   "source": [
    "# Thank You"
   ]
  }
 ],
 "metadata": {
  "celltoolbar": "Slideshow",
  "kernelspec": {
   "display_name": "Python 3",
   "language": "python",
   "name": "python3"
  },
  "language_info": {
   "codemirror_mode": {
    "name": "ipython",
    "version": 3
   },
   "file_extension": ".py",
   "mimetype": "text/x-python",
   "name": "python",
   "nbconvert_exporter": "python",
   "pygments_lexer": "ipython3",
   "version": "3.4.3"
  }
 },
 "nbformat": 4,
 "nbformat_minor": 0
}
